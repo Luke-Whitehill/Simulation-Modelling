{
 "metadata": {
  "language_info": {
   "codemirror_mode": {
    "name": "ipython",
    "version": 3
   },
   "file_extension": ".py",
   "mimetype": "text/x-python",
   "name": "python",
   "nbconvert_exporter": "python",
   "pygments_lexer": "ipython3",
   "version": "3.8.2-final"
  },
  "orig_nbformat": 2,
  "kernelspec": {
   "name": "python3",
   "display_name": "Python 3.8.2 64-bit",
   "metadata": {
    "interpreter": {
     "hash": "31f2aee4e71d21fbe5cf8b01ff0e069b9275f58929596ceb00d14d90e3e16cd6"
    }
   }
  }
 },
 "nbformat": 4,
 "nbformat_minor": 2,
 "cells": [
  {
   "cell_type": "code",
   "execution_count": 4,
   "metadata": {},
   "outputs": [],
   "source": [
    "#Tutorial 1\n",
    "#13215948 Luke Whitehill\n",
    "import random"
   ]
  },
  {
   "cell_type": "code",
   "execution_count": 222,
   "metadata": {},
   "outputs": [
    {
     "output_type": "stream",
     "name": "stdout",
     "text": [
      "0.0165\n0.507\n0.118\n"
     ]
    }
   ],
   "source": [
    "#Question 1\n",
    "#score = 0\n",
    "scorelist = []\n",
    "for i in range(1,2000):\n",
    "    score = 0\n",
    "    u = random.uniform(0,1)\n",
    "    u1 = random.uniform(0,1)\n",
    "    u2 = random.uniform(0,1)\n",
    "    if u <= 0.5:\n",
    "        score += 1\n",
    "    elif u > 0.5 and u < 1:\n",
    "        score += 0\n",
    "    if u1 <= (1/6):\n",
    "        u1result = 1\n",
    "        score += 1\n",
    "    elif u1 >= (1/6) and u1 < (2/6):\n",
    "        u1result = 2\n",
    "        score += 2\n",
    "    elif u1 >= (2/6) and u1 < (3/6):\n",
    "        u1result = 3\n",
    "        score += 3\n",
    "    elif u1 >= (3/6) and u1< (4/6):\n",
    "        u1result = 4\n",
    "        score += 4\n",
    "    elif u1 >= (4/6) and u1 < (5/6):\n",
    "        u1result = 5\n",
    "        score += 5\n",
    "    elif u1 >= (5/6) and u1 < 1:\n",
    "        u1result = 6\n",
    "        score += 6\n",
    "    if u2 < (1/2):\n",
    "        u2result = 1\n",
    "        score += u2result\n",
    "    elif u2 >= (1/2) and u2 < (3/4):\n",
    "        u2result = 4\n",
    "        score += u2result\n",
    "    elif u2 >= (3/4) and u2 < 1:\n",
    "        u2result = 0\n",
    "        score = score\n",
    "    #print(score)\n",
    "    scorelist.append(score)\n",
    "#print(scorelist)\n",
    "event1 = 0\n",
    "event2 = 0\n",
    "event3 = 0\n",
    "for j in scorelist:\n",
    "    if j == 1:\n",
    "        event1 += 1\n",
    "    elif j % 2 == 0:\n",
    "        event2 += 1\n",
    "\n",
    "for j in range(len(scorelist)):\n",
    "    if scorelist[j] == scorelist[j-1]:\n",
    "        event3 += 1\n",
    "\n",
    "print(event1/2000) \n",
    "#print(event1)\n",
    "print(event2/2000)\n",
    "print(event3/2000) #error\n",
    "    \n"
   ]
  },
  {
   "cell_type": "code",
   "execution_count": 225,
   "metadata": {},
   "outputs": [
    {
     "output_type": "stream",
     "name": "stdout",
     "text": [
      "0.3515\n"
     ]
    }
   ],
   "source": [
    "#Question 2\n",
    "borrowedstatus = []\n",
    "for i in range(1,2000):\n",
    "    u = random.uniform(0,1)\n",
    "    u1 = random.uniform(0,1)\n",
    "    borrowed = 0 #borrowed is false\n",
    "    if borrowed == 0 and u < 0.35:\n",
    "        borrowed = 1\n",
    "    elif borrowed == 0 and u >= 0.35:\n",
    "        borrowed = 0 \n",
    "    if borrowed == 1 and u1 <= 0.80:\n",
    "        borrowed = 1\n",
    "    elif borrowed == 1 and u1 > 80:\n",
    "        borrowed = 0\n",
    "    #print(borrowed)\n",
    "    borrowedstatus.append(borrowed)\n",
    "event1 = 0\n",
    "for j in borrowedstatus:\n",
    "    if j == 1:\n",
    "        event1 += 1\n",
    "print(event1/2000)"
   ]
  },
  {
   "cell_type": "code",
   "execution_count": 235,
   "metadata": {
    "tags": []
   },
   "outputs": [
    {
     "output_type": "stream",
     "name": "stdout",
     "text": [
      "0.2889\n0.3211\n0.39\nCheck\n1.0\n"
     ]
    }
   ],
   "source": [
    "#results:\n",
    "# if draw = 0\n",
    "# if player1 wins = 1\n",
    "# if player2 wins = 2\n",
    "\n",
    "#rock = 1\n",
    "#paper = 2\n",
    "#scissors = 3\n",
    "player1result = [1,1]\n",
    "player2result = [1,1]\n",
    "results = [0, 0]\n",
    "sims = 10000\n",
    "for i in range(1,10000):\n",
    "    u1 = random.uniform(0,1)\n",
    "    if u1 <= 0.6:\n",
    "        player1result.append(1) #rock\n",
    "    if u1 > 0.6 and u1 < 0.8:\n",
    "        player1result.append(2) #paper\n",
    "    if u1 >0.8 and u1 < 1:\n",
    "        player1result.append(3)\n",
    "#print(player1result)\n",
    "for j in range(2,len(player1result)):\n",
    "    if player1result[j-2] == 1:\n",
    "        player2result.append(2)\n",
    "    if player1result[j-2] == 2:\n",
    "        player2result.append(3)\n",
    "    if player1result[j-2] == 3:\n",
    "        player2result.append(1)\n",
    "#print(player2result)\n",
    "\n",
    "\n",
    "eventdraw = 0\n",
    "eventAwin = 0\n",
    "eventBwin = 0\n",
    "#rock = 1\n",
    "#paper = 2\n",
    "#scissors = 3\n",
    "for k in range(1,len(player1result)):\n",
    "    if player1result[k] == player2result[k]:\n",
    "        eventdraw +=1\n",
    "    if player1result[k] == 1 and player2result[k] == 2:\n",
    "        eventBwin += 1\n",
    "    if player1result[k] == 1 and player2result[k] == 3:\n",
    "        eventAwin += 1\n",
    "    if player1result[k] == 2 and player2result[k] == 1:\n",
    "        eventAwin += 1\n",
    "    if player1result[k] == 2 and player2result[k] == 3:\n",
    "        eventBwin +=1\n",
    "    if player1result[k] == 3 and player2result[k] == 2:\n",
    "        eventAwin +=1\n",
    "    if player1result[k] == 3 and player2result[k] == 1:\n",
    "        eventAwin +=1\n",
    "print(eventdraw/sims) #ok\n",
    "print(eventAwin/sims) #bit high\n",
    "print(eventBwin/sims) #bit low\n",
    "print(\"Check\")\n",
    "print(eventdraw/sims + eventAwin/sims + eventBwin/sims)\n",
    "\n",
    "    "
   ]
  }
 ]
}